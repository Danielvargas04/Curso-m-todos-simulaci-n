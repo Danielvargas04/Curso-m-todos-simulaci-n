{
 "cells": [
  {
   "cell_type": "code",
   "execution_count": 2,
   "metadata": {},
   "outputs": [],
   "source": [
    "import numpy as np\n",
    "import matplotlib.pyplot as plt"
   ]
  },
  {
   "cell_type": "code",
   "execution_count": 8,
   "metadata": {},
   "outputs": [],
   "source": [
    "#Constantes del problemas\n",
    "\n",
    "Lx=128\n",
    "Ly=128\n",
    "\n",
    "Q=5\n",
    "W0=1.0/3\n",
    "\n",
    "C=0.5 #C<0.707 cells/click\n",
    "C2=C*C\n",
    "AUX0=1-3*C2*(1-W0)\n",
    "\n",
    "tau=0.5\n",
    "Utau=1.0/tau\n",
    "UmUtau=1-Utau"
   ]
  },
  {
   "cell_type": "code",
   "execution_count": 41,
   "metadata": {},
   "outputs": [],
   "source": [
    "class LatticeB:\n",
    "    def __init__(self):\n",
    "        self.w = np.zeros(Q)\n",
    "        self.w[0]= W0\n",
    "        self.w[1]=self.w[2]=self.w[3]=self.w[4]=(1.0-W0)/4\n",
    "\n",
    "        self.vx =  np.zeros(Q)\n",
    "        self.vy =  np.zeros(Q)\n",
    "        self.vx[0]=0; self.vx[1]=1; self.vx[2]=0; self.vx[3]=-1; self.vx[4]=0\n",
    "        self.vy[0]=0; self.vy[1]=0; self.vy[2]=1; self.vy[3]=0; self.vy[4]=-1\n",
    "\n",
    "        self.f=np.zeros(Q*Lx*Ly)\n",
    "        self.fnew=np.zeros(Q*Lx*Ly)\n",
    "\n",
    "    def n(self, ix, iy, i):\n",
    "        return (ix*Ly+iy)*Q+i\n",
    "\n",
    "    def rho(self, ix, iy, usenew):\n",
    "        sum=0\n",
    "        for i in range(Q):\n",
    "            n0=self.n(ix,iy,i)\n",
    "            if (usenew):\n",
    "                sum+= self.fnew[n0]\n",
    "            else: \n",
    "                sum+=self.f[n0]\n",
    "        return sum\n",
    "    \n",
    "    def Jx(self, ix, iy, usenew):\n",
    "        sum=0\n",
    "        for i in range(Q):\n",
    "            n0=self.n(ix,iy,i)\n",
    "            if usenew:\n",
    "                sum+=self.vx[i]*self.fnew[n0]\n",
    "            else:\n",
    "                sum+=self.vx[i]*self.f[n0]\n",
    "        return sum\n",
    "    \n",
    "    def Jy(self, ix, iy, usenew):\n",
    "        sum=0\n",
    "        for i in range(Q):\n",
    "            n0=self.n(ix,iy,i)\n",
    "            if usenew:\n",
    "                sum+=self.vy[i]*self.fnew[n0]\n",
    "            else:\n",
    "                sum+=self.vy[i]*self.f[n0]\n",
    "        return sum\n",
    "    \n",
    "    def feq(self, rho0, Jx0, Jy0, i):\n",
    "        if i>0: \n",
    "            return 3*self.w[i]*(C2*rho0 + self.vx[i]*Jx0 + self.vy[i]*Jy0)\n",
    "        else:\n",
    "            return rho0*AUX0\n",
    "        \n",
    "    def star(self, rho0, Jx0, Jy0):\n",
    "        for ix in range(Lx):\n",
    "            for iy in range(Ly):\n",
    "                for i in range(Q):\n",
    "                    n0=self.n(ix,iy,i)\n",
    "                    self.f[n0]=self.feq(rho0, Jx0, Jy0, i)\n",
    "    \n",
    "    def collision(self):\n",
    "        for ix in range(Lx):\n",
    "            for iy in range(Ly):\n",
    "                rho0 = self.rho(ix, iy, False)\n",
    "                Jx0 = self.Jx(ix, iy, False)\n",
    "                Jy0 = self.Jy(ix, iy, False)\n",
    "                for i in range(Q):\n",
    "                    n0=self.n(ix,iy,i)\n",
    "                    self.fnew[n0]=UmUtau*self.f[n0] + Utau*self.feq(rho0, Jx0, Jy0, i)\n",
    "    \n",
    "    def imposeFields(self, t):\n",
    "        lamn=10\n",
    "        omega=2*np.pi/lamn*C\n",
    "        ix=Lx/2; iy=Ly/2\n",
    "        rho0=10*np.sin(omega*t); Jx0=self.Jx(ix, iy, False); Jy0=self.Jy(ix, iy, False)\n",
    "        for i in range(Q):\n",
    "            n0=self.n(ix,iy,i)\n",
    "            self.fnew[n0]=self.feq(rho0, Jx0, Jy0, i)\n",
    "    \n",
    "    def adveccion(self):\n",
    "        for ix in range(Lx):\n",
    "            for iy in range(Ly):\n",
    "                for i in range(Q):\n",
    "                    ixnew=(ix+self.vx[i]+Lx)%Lx; iynew=(iy+self.vy[i]+Ly)%Ly\n",
    "                    n0=self.n(ix,iy,i)\n",
    "                    n0new=self.n(ixnew,iynew,i)\n",
    "                    self.f[n0new]=self.fnew[n0]"
   ]
  },
  {
   "cell_type": "code",
   "execution_count": null,
   "metadata": {},
   "outputs": [],
   "source": []
  },
  {
   "cell_type": "code",
   "execution_count": 44,
   "metadata": {},
   "outputs": [
    {
     "ename": "IndexError",
     "evalue": "only integers, slices (`:`), ellipsis (`...`), numpy.newaxis (`None`) and integer or boolean arrays are valid indices",
     "output_type": "error",
     "traceback": [
      "\u001b[0;31m---------------------------------------------------------------------------\u001b[0m",
      "\u001b[0;31mIndexError\u001b[0m                                Traceback (most recent call last)",
      "\u001b[0;32m/tmp/ipykernel_7265/3205894873.py\u001b[0m in \u001b[0;36m<module>\u001b[0;34m\u001b[0m\n\u001b[1;32m     10\u001b[0m \u001b[0;32mfor\u001b[0m \u001b[0mt\u001b[0m \u001b[0;32min\u001b[0m \u001b[0mrange\u001b[0m\u001b[0;34m(\u001b[0m\u001b[0mtmax\u001b[0m\u001b[0;34m)\u001b[0m\u001b[0;34m:\u001b[0m\u001b[0;34m\u001b[0m\u001b[0;34m\u001b[0m\u001b[0m\n\u001b[1;32m     11\u001b[0m     \u001b[0mondas\u001b[0m\u001b[0;34m.\u001b[0m\u001b[0mcollision\u001b[0m\u001b[0;34m(\u001b[0m\u001b[0;34m)\u001b[0m\u001b[0;34m\u001b[0m\u001b[0;34m\u001b[0m\u001b[0m\n\u001b[0;32m---> 12\u001b[0;31m     \u001b[0mondas\u001b[0m\u001b[0;34m.\u001b[0m\u001b[0mimposeFields\u001b[0m\u001b[0;34m(\u001b[0m\u001b[0mt\u001b[0m\u001b[0;34m)\u001b[0m\u001b[0;34m\u001b[0m\u001b[0;34m\u001b[0m\u001b[0m\n\u001b[0m\u001b[1;32m     13\u001b[0m     \u001b[0mondas\u001b[0m\u001b[0;34m.\u001b[0m\u001b[0madveccion\u001b[0m\u001b[0;34m(\u001b[0m\u001b[0;34m)\u001b[0m\u001b[0;34m\u001b[0m\u001b[0;34m\u001b[0m\u001b[0m\n",
      "\u001b[0;32m/tmp/ipykernel_7265/1516028212.py\u001b[0m in \u001b[0;36mimposeFields\u001b[0;34m(self, t)\u001b[0m\n\u001b[1;32m     73\u001b[0m         \u001b[0momega\u001b[0m\u001b[0;34m=\u001b[0m\u001b[0;36m2\u001b[0m\u001b[0;34m*\u001b[0m\u001b[0mnp\u001b[0m\u001b[0;34m.\u001b[0m\u001b[0mpi\u001b[0m\u001b[0;34m/\u001b[0m\u001b[0mlamn\u001b[0m\u001b[0;34m*\u001b[0m\u001b[0mC\u001b[0m\u001b[0;34m\u001b[0m\u001b[0;34m\u001b[0m\u001b[0m\n\u001b[1;32m     74\u001b[0m         \u001b[0mix\u001b[0m\u001b[0;34m=\u001b[0m\u001b[0mLx\u001b[0m\u001b[0;34m/\u001b[0m\u001b[0;36m2\u001b[0m\u001b[0;34m;\u001b[0m \u001b[0miy\u001b[0m\u001b[0;34m=\u001b[0m\u001b[0mLy\u001b[0m\u001b[0;34m/\u001b[0m\u001b[0;36m2\u001b[0m\u001b[0;34m\u001b[0m\u001b[0;34m\u001b[0m\u001b[0m\n\u001b[0;32m---> 75\u001b[0;31m         \u001b[0mrho0\u001b[0m\u001b[0;34m=\u001b[0m\u001b[0;36m10\u001b[0m\u001b[0;34m*\u001b[0m\u001b[0mnp\u001b[0m\u001b[0;34m.\u001b[0m\u001b[0msin\u001b[0m\u001b[0;34m(\u001b[0m\u001b[0momega\u001b[0m\u001b[0;34m*\u001b[0m\u001b[0mt\u001b[0m\u001b[0;34m)\u001b[0m\u001b[0;34m;\u001b[0m \u001b[0mJx0\u001b[0m\u001b[0;34m=\u001b[0m\u001b[0mself\u001b[0m\u001b[0;34m.\u001b[0m\u001b[0mJx\u001b[0m\u001b[0;34m(\u001b[0m\u001b[0mix\u001b[0m\u001b[0;34m,\u001b[0m \u001b[0miy\u001b[0m\u001b[0;34m,\u001b[0m \u001b[0;32mFalse\u001b[0m\u001b[0;34m)\u001b[0m\u001b[0;34m;\u001b[0m \u001b[0mJy0\u001b[0m\u001b[0;34m=\u001b[0m\u001b[0mself\u001b[0m\u001b[0;34m.\u001b[0m\u001b[0mJy\u001b[0m\u001b[0;34m(\u001b[0m\u001b[0mix\u001b[0m\u001b[0;34m,\u001b[0m \u001b[0miy\u001b[0m\u001b[0;34m,\u001b[0m \u001b[0;32mFalse\u001b[0m\u001b[0;34m)\u001b[0m\u001b[0;34m\u001b[0m\u001b[0;34m\u001b[0m\u001b[0m\n\u001b[0m\u001b[1;32m     76\u001b[0m         \u001b[0;32mfor\u001b[0m \u001b[0mi\u001b[0m \u001b[0;32min\u001b[0m \u001b[0mrange\u001b[0m\u001b[0;34m(\u001b[0m\u001b[0mQ\u001b[0m\u001b[0;34m)\u001b[0m\u001b[0;34m:\u001b[0m\u001b[0;34m\u001b[0m\u001b[0;34m\u001b[0m\u001b[0m\n\u001b[1;32m     77\u001b[0m             \u001b[0mn0\u001b[0m\u001b[0;34m=\u001b[0m\u001b[0mself\u001b[0m\u001b[0;34m.\u001b[0m\u001b[0mn\u001b[0m\u001b[0;34m(\u001b[0m\u001b[0mix\u001b[0m\u001b[0;34m,\u001b[0m\u001b[0miy\u001b[0m\u001b[0;34m,\u001b[0m\u001b[0mi\u001b[0m\u001b[0;34m)\u001b[0m\u001b[0;34m\u001b[0m\u001b[0;34m\u001b[0m\u001b[0m\n",
      "\u001b[0;32m/tmp/ipykernel_7265/1516028212.py\u001b[0m in \u001b[0;36mJx\u001b[0;34m(self, ix, iy, usenew)\u001b[0m\n\u001b[1;32m     33\u001b[0m                 \u001b[0msum\u001b[0m\u001b[0;34m+=\u001b[0m\u001b[0mself\u001b[0m\u001b[0;34m.\u001b[0m\u001b[0mvx\u001b[0m\u001b[0;34m[\u001b[0m\u001b[0mi\u001b[0m\u001b[0;34m]\u001b[0m\u001b[0;34m*\u001b[0m\u001b[0mself\u001b[0m\u001b[0;34m.\u001b[0m\u001b[0mfnew\u001b[0m\u001b[0;34m[\u001b[0m\u001b[0mn0\u001b[0m\u001b[0;34m]\u001b[0m\u001b[0;34m\u001b[0m\u001b[0;34m\u001b[0m\u001b[0m\n\u001b[1;32m     34\u001b[0m             \u001b[0;32melse\u001b[0m\u001b[0;34m:\u001b[0m\u001b[0;34m\u001b[0m\u001b[0;34m\u001b[0m\u001b[0m\n\u001b[0;32m---> 35\u001b[0;31m                 \u001b[0msum\u001b[0m\u001b[0;34m+=\u001b[0m\u001b[0mself\u001b[0m\u001b[0;34m.\u001b[0m\u001b[0mvx\u001b[0m\u001b[0;34m[\u001b[0m\u001b[0mi\u001b[0m\u001b[0;34m]\u001b[0m\u001b[0;34m*\u001b[0m\u001b[0mself\u001b[0m\u001b[0;34m.\u001b[0m\u001b[0mf\u001b[0m\u001b[0;34m[\u001b[0m\u001b[0mn0\u001b[0m\u001b[0;34m]\u001b[0m\u001b[0;34m\u001b[0m\u001b[0;34m\u001b[0m\u001b[0m\n\u001b[0m\u001b[1;32m     36\u001b[0m         \u001b[0;32mreturn\u001b[0m \u001b[0msum\u001b[0m\u001b[0;34m\u001b[0m\u001b[0;34m\u001b[0m\u001b[0m\n\u001b[1;32m     37\u001b[0m \u001b[0;34m\u001b[0m\u001b[0m\n",
      "\u001b[0;31mIndexError\u001b[0m: only integers, slices (`:`), ellipsis (`...`), numpy.newaxis (`None`) and integer or boolean arrays are valid indices"
     ]
    }
   ],
   "source": [
    "ondas = LatticeB()\n",
    "\n",
    "tmax=100\n",
    "rho0=0 \n",
    "Jx0=0 \n",
    "Jy0=0\n",
    "\n",
    "ondas.star(rho0, Jx0, Jy0)\n",
    "\n",
    "for t in range(tmax):\n",
    "    ondas.collision()\n",
    "    ondas.imposeFields(t)\n",
    "    ondas.adveccion()\n"
   ]
  },
  {
   "cell_type": "code",
   "execution_count": null,
   "metadata": {},
   "outputs": [],
   "source": [
    "#Grafica\n",
    "\n",
    "\n",
    "for ix in range(Lx):\n",
    "    for iy in range(Ly):\n",
    "        rho0=ondas.rho(ix, iy, True)\n"
   ]
  }
 ],
 "metadata": {
  "kernelspec": {
   "display_name": "Python 3",
   "language": "python",
   "name": "python3"
  },
  "language_info": {
   "codemirror_mode": {
    "name": "ipython",
    "version": 3
   },
   "file_extension": ".py",
   "mimetype": "text/x-python",
   "name": "python",
   "nbconvert_exporter": "python",
   "pygments_lexer": "ipython3",
   "version": "3.10.12"
  }
 },
 "nbformat": 4,
 "nbformat_minor": 2
}
